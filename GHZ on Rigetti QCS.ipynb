{
 "cells": [
  {
   "cell_type": "markdown",
   "metadata": {},
   "source": [
    "# GHZ states and non-local measurements \n",
    "This notebook demonstrates a PyQuil implementation of a version of the [Greenberger–Horne–Zeilinger](https://en.wikipedia.org/wiki/Greenberger%E2%80%93Horne%E2%80%93Zeilinger_state) (GHZ) experiment that was [popularized by David Mermin](http://www.phy.pku.edu.cn/~qiongyihe/content/download/3-2.pdf).  "
   ]
  },
  {
   "cell_type": "code",
   "execution_count": 1,
   "metadata": {},
   "outputs": [],
   "source": [
    "import itertools\n",
    "import time\n",
    "import math\n",
    "from typing import List\n",
    "from collections import Counter\n",
    "\n",
    "import plotly.graph_objects as go\n",
    "from plotly.subplots import make_subplots\n",
    "import plotly.io as pio\n",
    "pio.templates.default = 'none'\n",
    "\n",
    "from pyquil import get_qc, Program\n",
    "from pyquil.gates import CNOT, H, MEASURE, RESET, RX, RY\n",
    "import os\n",
    "import sys\n",
    "sys.path.append(os.path.abspath(os.path.join('..')))\n",
    "from hello_qmi import get_active_lattice\n",
    "\n",
    "n_shots = 10_000"
   ]
  },
  {
   "cell_type": "markdown",
   "metadata": {},
   "source": [
    "## Creating PyQuil programs\n",
    "First, we create a function to generate Quil programs for us.  It sets the first qubit to the superposition state $\\left| \\uparrow \\right>$ using the [Hadamard](https://en.wikipedia.org/wiki/Quantum_logic_gate#Hadamard_(H)_gate) gate and then generates a GHZ state (which looks like $\\left| \\uparrow \\uparrow \\uparrow \\right> + \\left| \\downarrow \\downarrow \\downarrow \\right>$  for 3 qubits) by applying [Controlled-NOT](https://en.wikipedia.org/wiki/Controlled_NOT_gate) (`CNOT`) gates between the first qubit and the others.  It then measures each of the qubits in turn along either the X, Y or Z axes.  (In Quil we can only measure along the Z axis, but we measure along the others by rotating the qubit first).  "
   ]
  },
  {
   "cell_type": "code",
   "execution_count": 2,
   "metadata": {},
   "outputs": [],
   "source": [
    "\"\"\"\n",
    "This function places three qubits in a GHZ state and then measures them along some combination of\n",
    "the X, Y or Z axes, as specified by `measure`.  \n",
    "\"\"\"\n",
    "def ghz_program(qubits: List[int], measure: List[str], include_measure = True) -> Program:\n",
    "    assert len(qubits) == len(measure)\n",
    "    assert all(m in 'XYZ' for m in measure)\n",
    "    program = Program(RESET())\n",
    "    program.inst(H(qubits[0]))\n",
    "    for i in range(len(qubits) - 1):\n",
    "        program.inst(CNOT(qubits[i], qubits[i + 1]))\n",
    "    for i in range(len(measure)):\n",
    "        if measure[i] == 'X':\n",
    "            program.inst(RY(-math.pi/2, qubits[i]))\n",
    "        elif measure[i] == 'Y':\n",
    "            program.inst(RX(math.pi/2, qubits[i]))\n",
    "        else: #  measure[i] == 'Z'\n",
    "            # We don't need to do anything since we measure along the Z axis by default\n",
    "            pass\n",
    "    if include_measure:\n",
    "        ro = program.declare('ro', 'BIT', len(qubits))\n",
    "        program.inst([MEASURE(qubit, ro[idx]) for idx, qubit in enumerate(qubits)])\n",
    "    return program"
   ]
  },
  {
   "cell_type": "markdown",
   "metadata": {},
   "source": [
    "This program looks a bit complicated, but we can inspect the actual sequence of gates that it will run for a given set of measurements."
   ]
  },
  {
   "cell_type": "code",
   "execution_count": 3,
   "metadata": {},
   "outputs": [
    {
     "name": "stdout",
     "output_type": "stream",
     "text": [
      "RESET\n",
      "H 0\n",
      "CNOT 0 1\n",
      "CNOT 1 2\n",
      "RY(-pi/2) 0\n",
      "RX(pi/2) 1\n",
      "RX(pi/2) 2\n",
      "DECLARE ro BIT[3]\n",
      "MEASURE 0 ro[0]\n",
      "MEASURE 1 ro[1]\n",
      "MEASURE 2 ro[2]\n",
      "\n"
     ]
    }
   ],
   "source": [
    "p = ghz_program(range(3), ['X', 'Y', 'Y'])\n",
    "print(p)"
   ]
  },
  {
   "cell_type": "markdown",
   "metadata": {},
   "source": [
    "If you're more familiar with circuit diagrams, our sample program looks like this:\n",
    "\n",
    "<img src=\"figures/Raw circuit.png\" width=\"500\">\n",
    "\n",
    "The program above only makes a single measurement at a time, so we make another function to run it a large number of times and summarize the results."
   ]
  },
  {
   "cell_type": "code",
   "execution_count": 4,
   "metadata": {},
   "outputs": [],
   "source": [
    "# A function for actually running measurements and storing the responses\n",
    "def do_measurements(qubits, measurement_set):\n",
    "    raw_results = {}\n",
    "    for measurement in measurement_set:\n",
    "        program = ghz_program(qubits, measurement, False)\n",
    "        # Try to do http://docs.rigetti.com/en/stable/apidocs/autogen/pyquil.api.QuantumComputer.run_symmetrized_readout.html?highlight=readout%20bias\n",
    "        raw_results[tuple(measurement)] = qpu.run_symmetrized_readout(program, n_shots)\n",
    "#         program.wrap_in_numshots_loop(n_shots)\n",
    "#         cp = qpu.compile(program)    \n",
    "#         raw_results[tuple(measurement)] = qpu.run(cp)\n",
    "        hist = {mx: Counter(tuple(2*i-1) for i in raw_results[mx]) for mx in raw_results}\n",
    "        probs = {mx: {m: hist[mx][m]/n_shots for m in hist[mx]} for mx in hist}\n",
    "    return probs"
   ]
  },
  {
   "cell_type": "markdown",
   "metadata": {},
   "source": [
    "We can also make a function to plot our results as a histogram of the measured outcomes."
   ]
  },
  {
   "cell_type": "code",
   "execution_count": 1,
   "metadata": {},
   "outputs": [],
   "source": [
    "def plot_results(results):\n",
    "    outcomes = [-1, +1]\n",
    "    possible_results = [(i, j, k) for i in outcomes for j in outcomes for k in outcomes]\n",
    "    fig = make_subplots(rows=1, cols=3, \n",
    "                        subplot_titles = ['(' + \", \".join(mx) + ')' for mx in results])\n",
    "    for i, mx in enumerate(results):\n",
    "        fig.append_trace(\n",
    "            go.Bar(x = ['(' + ' '.join('↑' if i == 1 else '↓' for i in r) + ')' for r in possible_results], \n",
    "                   y = [results[mx].get(r, 0) for r in possible_results],\n",
    "                  showlegend=False),\n",
    "            row=1, col=i+1\n",
    "        )\n",
    "        fig.update_yaxes(title='Probability', tickformat=\".0%\", row=1, col=i+1)\n",
    "        fig.update_xaxes(tickangle=45, tickfont=dict(size=14))\n",
    "    fig.show()"
   ]
  },
  {
   "cell_type": "markdown",
   "metadata": {},
   "source": [
    "## Making measurements\n",
    "\n",
    "Next, we start up a Quantum Virtual Machine to run this simulation on and select three qubits to use.  "
   ]
  },
  {
   "cell_type": "code",
   "execution_count": 12,
   "metadata": {},
   "outputs": [],
   "source": [
    "# These first two lines can be used to connect to an actual device instead of the QVM\n",
    "#lattice = get_active_lattice()\n",
    "#qpu = get_qc(lattice)\n",
    "qpu = get_qc('9q-generic-qvm')\n",
    "qubits = qpu.device.qubits()[1:4]"
   ]
  },
  {
   "cell_type": "markdown",
   "metadata": {},
   "source": [
    "Our sample program above contains some gates which can't be performed on our QPU directly.  Fortunately, the compiler knows how to rewrite our program using  the set of allowable gates.  In this example, you can see that a `RY(-pi/2) 0` gate has been replaced with an equivilent sequence of gates, `RX(pi/2) 0` and `RZ(-pi/2) 0`.  "
   ]
  },
  {
   "cell_type": "code",
   "execution_count": 13,
   "metadata": {},
   "outputs": [
    {
     "name": "stdout",
     "output_type": "stream",
     "text": [
      "DECLARE ro BIT[3]\n",
      "RESET\n",
      "RZ(1.5707963267948968) 1\n",
      "RX(pi/2) 1\n",
      "RZ(-pi/2) 2\n",
      "RX(pi/2) 2\n",
      "CZ 2 1\n",
      "RX(-pi/2) 2\n",
      "RZ(-pi/2) 3\n",
      "RX(pi/2) 3\n",
      "CZ 3 2\n",
      "RX(pi/2) 1\n",
      "RZ(-pi/2) 1\n",
      "RZ(-pi/2) 2\n",
      "RX(pi/2) 2\n",
      "RZ(pi/2) 3\n",
      "RX(pi/2) 3\n",
      "RZ(-pi/2) 3\n",
      "MEASURE 3 ro[2]\n",
      "MEASURE 2 ro[1]\n",
      "MEASURE 1 ro[0]\n",
      "\n"
     ]
    },
    {
     "name": "stderr",
     "output_type": "stream",
     "text": [
      "/home/forest/.virtualenvs/venv/lib/python3.6/site-packages/rpcq/_client.py:177: UserWarning:\n",
      "\n",
      "SIMPLE-WARNING: Chip specification contained fidelity 1.0d0 > 1. Truncating to 0.99999d0.\n",
      "\n"
     ]
    }
   ],
   "source": [
    "p = ghz_program(qubits, ['X', 'Y', 'Y'])\n",
    "np = qpu.compiler.quil_to_native_quil(p)\n",
    "print(np)"
   ]
  },
  {
   "cell_type": "markdown",
   "metadata": {},
   "source": [
    "### Measuring (Z, Z, Z)\n",
    "What happens when we measure all three qubits along the Z axis?  Our state is a superposition of the $\\left| \\uparrow \\uparrow \\uparrow \\right>$ and $ \\left| \\downarrow \\downarrow \\downarrow \\right>$ states so we expect to get one of those two results."
   ]
  },
  {
   "cell_type": "code",
   "execution_count": 2,
   "metadata": {},
   "outputs": [],
   "source": [
    "three_z_results = do_measurements(qubits, [['Z', 'Z', 'Z']])\n",
    "plot_results(three_z_results)"
   ]
  },
  {
   "cell_type": "markdown",
   "metadata": {},
   "source": [
    "<img src=\"figures/ZZZ.png\" width=\"500\"> <br />\n",
    "<em>(Here's the result rendered to a static image for offline viewing).  </em>"
   ]
  },
  {
   "cell_type": "markdown",
   "metadata": {},
   "source": [
    "### Measuring (X, X, X)\n",
    "What happens if we measure all three qubits along the X axis?  "
   ]
  },
  {
   "cell_type": "code",
   "execution_count": 3,
   "metadata": {},
   "outputs": [],
   "source": [
    "three_x_results = do_measurements(qubits, [['X', 'X', 'X']])\n",
    "plot_results(three_x_results)"
   ]
  },
  {
   "cell_type": "markdown",
   "metadata": {},
   "source": [
    "<img src=\"figures/XXX.png\" width=\"500\"> <br />\n",
    "<em>(Here's the result rendered to a static image for offline viewing).  </em>"
   ]
  },
  {
   "cell_type": "markdown",
   "metadata": {},
   "source": [
    "We get one of four possible results.  Either all of the qubits are in the $\\downarrow$ state or exactly one of them is.  If we think about the down state corresponding to -1 and the up state to +1 then this means that the only results we see are where\n",
    "\n",
    "$$\n",
    "X_1 X_2 X_3 = -1\n",
    "$$\n",
    "\n",
    "is true.\n",
    "\n",
    "### Measuring one X and two Y\n",
    "\n",
    "What about measuring one qubit along the X axis and the other along Y?  We can try all possible combinations:"
   ]
  },
  {
   "cell_type": "code",
   "execution_count": 4,
   "metadata": {},
   "outputs": [],
   "source": [
    "two_x_one_y = [\n",
    "    ['X' if j == i else 'Y' for j in range(len(qubits))]\n",
    "    for i in range(len(qubits))\n",
    "]\n",
    "two_x_one_y_results = do_measurements(qubits, two_x_one_y)\n",
    "plot_results(two_x_one_y_results)"
   ]
  },
  {
   "cell_type": "markdown",
   "metadata": {},
   "source": [
    "<img src=\"figures/XYY.png\" width=\"500\"> <br />\n",
    "<em>(Here's the result rendered to a static image for offline viewing).  </em>"
   ]
  },
  {
   "cell_type": "markdown",
   "metadata": {},
   "source": [
    "In each case, if the qubit we measured along the X axis is down then the two qubits we measured along the Y axis have different results.  If the X qubit is up then the two other qubits have the same result.  From this, we can write out three more equalities: \n",
    "\n",
    "$$\n",
    "X_1 Y_2 Y_3 = 1 \\\\\n",
    "Y_1 X_2 Y_3 = 1 \\\\\n",
    "Y_1 Y_2 X_3 = 1\n",
    "$$\n",
    "\n",
    "\n",
    "## Ruling out deterministic local states\n",
    "\n",
    "Can these results be explained by assigning each qubit a value for its measurement along the X and Y axis prior to the measurements taking place?  We can quickly check this by multiplying the four equations above together to get:\n",
    "\n",
    "$$\n",
    "(X_1)^2 (X_2)^2 (X_3)^2 (Y_1)^2 (Y_2)^2 (Y_3)^2 = -1\n",
    "$$\n",
    "\n",
    "This is a contradiction since each measurement value is ±1, and this demonstrates that the set of qubits could not have predetermined local states.  \n",
    "\n"
   ]
  },
  {
   "cell_type": "markdown",
   "metadata": {},
   "source": [
    "\n",
    "\n",
    "\n",
    "\n",
    "\n",
    "\n",
    "\n",
    "\n",
    "\n",
    "\n",
    "\n",
    "\n",
    "\n",
    "\n",
    "\n",
    "\n",
    "\n",
    "\n",
    "\n",
    "\n"
   ]
  }
 ],
 "metadata": {
  "kernelspec": {
   "display_name": "Python 3",
   "language": "python",
   "name": "python3"
  },
  "language_info": {
   "codemirror_mode": {
    "name": "ipython",
    "version": 3
   },
   "file_extension": ".py",
   "mimetype": "text/x-python",
   "name": "python",
   "nbconvert_exporter": "python",
   "pygments_lexer": "ipython3",
   "version": "3.6.5"
  }
 },
 "nbformat": 4,
 "nbformat_minor": 4
}
