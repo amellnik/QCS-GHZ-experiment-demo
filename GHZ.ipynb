{
 "cells": [
  {
   "cell_type": "markdown",
   "metadata": {},
   "source": [
    "# GHZ states and non-local measurements \n",
    "This notebook demonstrates a PyQuil implementation of a version of the [Greenberger–Horne–Zeilinger](https://en.wikipedia.org/wiki/Greenberger%E2%80%93Horne%E2%80%93Zeilinger_state) (GHZ) experiment that was [popularized by David Mermin](http://www.phy.pku.edu.cn/~qiongyihe/content/download/3-2.pdf).  "
   ]
  },
  {
   "cell_type": "code",
   "execution_count": 1,
   "metadata": {},
   "outputs": [],
   "source": [
    "import itertools\n",
    "import time\n",
    "import math\n",
    "from typing import List\n",
    "from collections import Counter\n",
    "\n",
    "import plotly.graph_objects as go\n",
    "from plotly.subplots import make_subplots\n",
    "import plotly.io as pio\n",
    "pio.templates.default = 'none'\n",
    "\n",
    "from pyquil import get_qc, Program\n",
    "from pyquil.gates import CNOT, H, MEASURE, RESET, RX, RY\n",
    "import os\n",
    "import sys\n",
    "sys.path.append(os.path.abspath(os.path.join('..')))\n",
    "from hello_qmi import get_active_lattice\n",
    "\n",
    "n_shots = 10_000"
   ]
  },
  {
   "cell_type": "markdown",
   "metadata": {},
   "source": [
    "## Creating PyQuil programs\n",
    "First, we create a function to generate Quil programs for us.  It sets the first qubit to the superposition state $\\left| \\uparrow \\right>$ using the [Hadamard](https://en.wikipedia.org/wiki/Quantum_logic_gate#Hadamard_(H)_gate) gate and then generates a GHZ state (which looks like $\\left| \\uparrow \\uparrow \\uparrow \\right> + \\left| \\downarrow \\downarrow \\downarrow \\right>$  for 3 qubits) by applying [Controlled-NOT](https://en.wikipedia.org/wiki/Controlled_NOT_gate) (`CNOT`) gates between the first qubit and the others.  It then measures each of the qubits in turn along either the X, Y or Z axes.  (In Quil we can only measure along the Z axis, but we measure along the others by rotating the qubit first).  "
   ]
  },
  {
   "cell_type": "code",
   "execution_count": 2,
   "metadata": {},
   "outputs": [],
   "source": [
    "\"\"\"\n",
    "This function places three qubits in a GHZ state and then measures them along some combination of\n",
    "the X, Y or Z axes, as specified by `measure`.  \n",
    "\"\"\"\n",
    "def ghz_program(qubits: List[int], measure: List[str], include_measure = True) -> Program:\n",
    "    assert len(qubits) == len(measure)\n",
    "    assert all(m in 'XYZ' for m in measure)\n",
    "    program = Program(RESET())\n",
    "    program.inst(H(qubits[0]))\n",
    "    for i in range(len(qubits) - 1):\n",
    "        program.inst(CNOT(qubits[i], qubits[i + 1]))\n",
    "    for i in range(len(measure)):\n",
    "        if measure[i] == 'X':\n",
    "            program.inst(RY(-math.pi/2, qubits[i]))\n",
    "        elif measure[i] == 'Y':\n",
    "            program.inst(RX(math.pi/2, qubits[i]))\n",
    "        else: #  measure[i] == 'Z'\n",
    "            # We don't need to do anything since we measure along the Z axis by default\n",
    "            pass\n",
    "    if include_measure:\n",
    "        ro = program.declare('ro', 'BIT', len(qubits))\n",
    "        program.inst([MEASURE(qubit, ro[idx]) for idx, qubit in enumerate(qubits)])\n",
    "    return program"
   ]
  },
  {
   "cell_type": "markdown",
   "metadata": {},
   "source": [
    "This program looks a bit complicated, but we can inspect the actual sequence of gates that it will run for a given set of measurements."
   ]
  },
  {
   "cell_type": "code",
   "execution_count": 3,
   "metadata": {},
   "outputs": [
    {
     "name": "stdout",
     "output_type": "stream",
     "text": [
      "RESET\n",
      "H 0\n",
      "CNOT 0 1\n",
      "CNOT 1 2\n",
      "RY(-pi/2) 0\n",
      "RX(pi/2) 1\n",
      "RX(pi/2) 2\n",
      "DECLARE ro BIT[3]\n",
      "MEASURE 0 ro[0]\n",
      "MEASURE 1 ro[1]\n",
      "MEASURE 2 ro[2]\n",
      "\n"
     ]
    }
   ],
   "source": [
    "p = ghz_program(range(3), ['X', 'Y', 'Y'])\n",
    "print(p)"
   ]
  },
  {
   "cell_type": "markdown",
   "metadata": {},
   "source": [
    "If you're more familiar with circuit diagrams, our sample program looks like this:\n",
    "\n",
    "<img src=\"figures/Raw circuit.png\" width=\"500\">\n",
    "\n",
    "The program above only makes a single measurement at a time, so we make another function to run it a large number of times and summarize the results."
   ]
  },
  {
   "cell_type": "code",
   "execution_count": 4,
   "metadata": {},
   "outputs": [],
   "source": [
    "# A function for actually running measurements and storing the responses\n",
    "def do_measurements(qubits, measurement_set):\n",
    "    raw_results = {}\n",
    "    for measurement in measurement_set:\n",
    "        program = ghz_program(qubits, measurement, False)\n",
    "        # Try to do http://docs.rigetti.com/en/stable/apidocs/autogen/pyquil.api.QuantumComputer.run_symmetrized_readout.html?highlight=readout%20bias\n",
    "        raw_results[tuple(measurement)] = qpu.run_symmetrized_readout(program, n_shots)\n",
    "#         program.wrap_in_numshots_loop(n_shots)\n",
    "#         cp = qpu.compile(program)    \n",
    "#         raw_results[tuple(measurement)] = qpu.run(cp)\n",
    "        hist = {mx: Counter(tuple(2*i-1) for i in raw_results[mx]) for mx in raw_results}\n",
    "        probs = {mx: {m: hist[mx][m]/n_shots for m in hist[mx]} for mx in hist}\n",
    "    return probs"
   ]
  },
  {
   "cell_type": "markdown",
   "metadata": {},
   "source": [
    "We can also make a function to plot our results as a histogram of the measured outcomes."
   ]
  },
  {
   "cell_type": "code",
   "execution_count": 5,
   "metadata": {},
   "outputs": [],
   "source": [
    "def plot_results(results):\n",
    "    outcomes = [-1, +1]\n",
    "    possible_results = [(i, j, k) for i in outcomes for j in outcomes for k in outcomes]\n",
    "    fig = make_subplots(rows=1, cols=3, \n",
    "                        subplot_titles = ['(' + \", \".join(mx) + ')' for mx in results])\n",
    "    for i, mx in enumerate(results):\n",
    "        fig.append_trace(\n",
    "            go.Bar(x = ['(' + ' '.join('↑' if i == 1 else '↓' for i in r) + ')' for r in possible_results], \n",
    "                   y = [results[mx].get(r, 0) for r in possible_results],\n",
    "                  showlegend=False),\n",
    "            row=1, col=i+1\n",
    "        )\n",
    "        fig.update_yaxes(title='Probability', tickformat=\".0%\", row=1, col=i+1)\n",
    "        fig.update_xaxes(tickangle=45, tickfont=dict(size=14))\n",
    "    fig.show()"
   ]
  },
  {
   "cell_type": "markdown",
   "metadata": {},
   "source": [
    "## Making measurements\n",
    "\n",
    "Next, we start up a Quantum Virtual Machine to run this simulation on and select three qubits to use.  "
   ]
  },
  {
   "cell_type": "code",
   "execution_count": 12,
   "metadata": {},
   "outputs": [],
   "source": [
    "# These first two lines can be used to connect to an actual device instead of the QVM\n",
    "#lattice = get_active_lattice()\n",
    "#qpu = get_qc(lattice)\n",
    "qpu = get_qc('9q-generic-qvm')\n",
    "qubits = qpu.device.qubits()[1:4]"
   ]
  },
  {
   "cell_type": "markdown",
   "metadata": {},
   "source": [
    "Our sample program above contains some gates which can't be performed on our QPU directly.  Fortunately, the compiler knows how to rewrite our program using  the set of allowable gates.  In this example, you can see that a `RY(-pi/2) 0` gate has been replaced with an equivilent sequence of gates, `RX(pi/2) 0` and `RZ(-pi/2) 0`.  "
   ]
  },
  {
   "cell_type": "code",
   "execution_count": 13,
   "metadata": {},
   "outputs": [
    {
     "name": "stdout",
     "output_type": "stream",
     "text": [
      "DECLARE ro BIT[3]\n",
      "RESET\n",
      "RZ(1.5707963267948968) 1\n",
      "RX(pi/2) 1\n",
      "RZ(-pi/2) 2\n",
      "RX(pi/2) 2\n",
      "CZ 2 1\n",
      "RX(-pi/2) 2\n",
      "RZ(-pi/2) 3\n",
      "RX(pi/2) 3\n",
      "CZ 3 2\n",
      "RX(pi/2) 1\n",
      "RZ(-pi/2) 1\n",
      "RZ(-pi/2) 2\n",
      "RX(pi/2) 2\n",
      "RZ(pi/2) 3\n",
      "RX(pi/2) 3\n",
      "RZ(-pi/2) 3\n",
      "MEASURE 3 ro[2]\n",
      "MEASURE 2 ro[1]\n",
      "MEASURE 1 ro[0]\n",
      "\n"
     ]
    },
    {
     "name": "stderr",
     "output_type": "stream",
     "text": [
      "/home/forest/.virtualenvs/venv/lib/python3.6/site-packages/rpcq/_client.py:177: UserWarning:\n",
      "\n",
      "SIMPLE-WARNING: Chip specification contained fidelity 1.0d0 > 1. Truncating to 0.99999d0.\n",
      "\n"
     ]
    }
   ],
   "source": [
    "p = ghz_program(qubits, ['X', 'Y', 'Y'])\n",
    "np = qpu.compiler.quil_to_native_quil(p)\n",
    "print(np)"
   ]
  },
  {
   "cell_type": "markdown",
   "metadata": {},
   "source": [
    "### Measuring (Z, Z, Z)\n",
    "What happens when we measure all three qubits along the Z axis?  Our state is a superposition of the $\\left| \\uparrow \\uparrow \\uparrow \\right>$ and $ \\left| \\downarrow \\downarrow \\downarrow \\right>$ states so we expect to get one of those two results."
   ]
  },
  {
   "cell_type": "code",
   "execution_count": 14,
   "metadata": {},
   "outputs": [
    {
     "data": {
      "application/vnd.plotly.v1+json": {
       "config": {
        "plotlyServerURL": "https://plot.ly"
       },
       "data": [
        {
         "showlegend": false,
         "type": "bar",
         "x": [
          "(↓ ↓ ↓)",
          "(↓ ↓ ↑)",
          "(↓ ↑ ↓)",
          "(↓ ↑ ↑)",
          "(↑ ↓ ↓)",
          "(↑ ↓ ↑)",
          "(↑ ↑ ↓)",
          "(↑ ↑ ↑)"
         ],
         "xaxis": "x",
         "y": [
          0.3998,
          0.0531,
          0.0136,
          0.0379,
          0.0444,
          0.016,
          0.0566,
          0.3786
         ],
         "yaxis": "y"
        }
       ],
       "layout": {
        "annotations": [
         {
          "font": {
           "size": 16
          },
          "showarrow": false,
          "text": "(Z, Z, Z)",
          "x": 0.14444444444444446,
          "xanchor": "center",
          "xref": "paper",
          "y": 1,
          "yanchor": "bottom",
          "yref": "paper"
         }
        ],
        "autosize": true,
        "xaxis": {
         "anchor": "y",
         "autorange": true,
         "domain": [
          0,
          0.2888888888888889
         ],
         "range": [
          -0.5,
          7.5
         ],
         "tickangle": 45,
         "tickfont": {
          "size": 14
         },
         "type": "category"
        },
        "xaxis2": {
         "anchor": "y2",
         "domain": [
          0.35555555555555557,
          0.6444444444444445
         ],
         "tickangle": 45,
         "tickfont": {
          "size": 14
         }
        },
        "xaxis3": {
         "anchor": "y3",
         "domain": [
          0.7111111111111111,
          1
         ],
         "tickangle": 45,
         "tickfont": {
          "size": 14
         }
        },
        "yaxis": {
         "anchor": "x",
         "autorange": true,
         "domain": [
          0,
          1
         ],
         "range": [
          0,
          0.4208421052631579
         ],
         "tickformat": ".0%",
         "title": {
          "text": "Probability"
         },
         "type": "linear"
        },
        "yaxis2": {
         "anchor": "x2",
         "domain": [
          0,
          1
         ]
        },
        "yaxis3": {
         "anchor": "x3",
         "domain": [
          0,
          1
         ]
        }
       }
      },
      "image/png": "[encoded data removed]",
      "text/html": [
       "<div>\n",
       "        \n",
       "        \n",
       "            <div id=\"c06ab00b-d3fb-4d00-a16c-5e1f131129f1\" class=\"plotly-graph-div\" style=\"height:525px; width:100%;\"></div>\n",
       "            <script type=\"text/javascript\">\n",
       "                require([\"plotly\"], function(Plotly) {\n",
       "                    window.PLOTLYENV=window.PLOTLYENV || {};\n",
       "                    \n",
       "                if (document.getElementById(\"c06ab00b-d3fb-4d00-a16c-5e1f131129f1\")) {\n",
       "                    Plotly.newPlot(\n",
       "                        'c06ab00b-d3fb-4d00-a16c-5e1f131129f1',\n",
       "                        [{\"showlegend\": false, \"type\": \"bar\", \"x\": [\"(\\u2193 \\u2193 \\u2193)\", \"(\\u2193 \\u2193 \\u2191)\", \"(\\u2193 \\u2191 \\u2193)\", \"(\\u2193 \\u2191 \\u2191)\", \"(\\u2191 \\u2193 \\u2193)\", \"(\\u2191 \\u2193 \\u2191)\", \"(\\u2191 \\u2191 \\u2193)\", \"(\\u2191 \\u2191 \\u2191)\"], \"xaxis\": \"x\", \"y\": [0.3998, 0.0531, 0.0136, 0.0379, 0.0444, 0.016, 0.0566, 0.3786], \"yaxis\": \"y\"}],\n",
       "                        {\"annotations\": [{\"font\": {\"size\": 16}, \"showarrow\": false, \"text\": \"(Z, Z, Z)\", \"x\": 0.14444444444444446, \"xanchor\": \"center\", \"xref\": \"paper\", \"y\": 1.0, \"yanchor\": \"bottom\", \"yref\": \"paper\"}], \"xaxis\": {\"anchor\": \"y\", \"domain\": [0.0, 0.2888888888888889], \"tickangle\": 45, \"tickfont\": {\"size\": 14}}, \"xaxis2\": {\"anchor\": \"y2\", \"domain\": [0.35555555555555557, 0.6444444444444445], \"tickangle\": 45, \"tickfont\": {\"size\": 14}}, \"xaxis3\": {\"anchor\": \"y3\", \"domain\": [0.7111111111111111, 1.0], \"tickangle\": 45, \"tickfont\": {\"size\": 14}}, \"yaxis\": {\"anchor\": \"x\", \"domain\": [0.0, 1.0], \"tickformat\": \".0%\", \"title\": {\"text\": \"Probability\"}}, \"yaxis2\": {\"anchor\": \"x2\", \"domain\": [0.0, 1.0]}, \"yaxis3\": {\"anchor\": \"x3\", \"domain\": [0.0, 1.0]}},\n",
       "                        {\"responsive\": true}\n",
       "                    ).then(function(){\n",
       "                            \n",
       "var gd = document.getElementById('c06ab00b-d3fb-4d00-a16c-5e1f131129f1');\n",
       "var x = new MutationObserver(function (mutations, observer) {{\n",
       "        var display = window.getComputedStyle(gd).display;\n",
       "        if (!display || display === 'none') {{\n",
       "            console.log([gd, 'removed!']);\n",
       "            Plotly.purge(gd);\n",
       "            observer.disconnect();\n",
       "        }}\n",
       "}});\n",
       "\n",
       "// Listen for the removal of the full notebook cells\n",
       "var notebookContainer = gd.closest('#notebook-container');\n",
       "if (notebookContainer) {{\n",
       "    x.observe(notebookContainer, {childList: true});\n",
       "}}\n",
       "\n",
       "// Listen for the clearing of the current output cell\n",
       "var outputEl = gd.closest('.output');\n",
       "if (outputEl) {{\n",
       "    x.observe(outputEl, {childList: true});\n",
       "}}\n",
       "\n",
       "                        })\n",
       "                };\n",
       "                });\n",
       "            </script>\n",
       "        </div>"
      ]
     },
     "metadata": {},
     "output_type": "display_data"
    }
   ],
   "source": [
    "three_z_results = do_measurements(qubits, [['Z', 'Z', 'Z']])\n",
    "plot_results(three_z_results)"
   ]
  },
  {
   "cell_type": "markdown",
   "metadata": {},
   "source": [
    "<img src=\"figures/ZZZ.png\" width=\"500\"> <br />\n",
    "<em>(Here's the result rendered to a static image for offline viewing).  </em>"
   ]
  },
  {
   "cell_type": "markdown",
   "metadata": {},
   "source": [
    "### Measuring (X, X, X)\n",
    "What happens if we measure all three qubits along the X axis?  "
   ]
  },
  {
   "cell_type": "code",
   "execution_count": 15,
   "metadata": {},
   "outputs": [
    {
     "data": {
      "application/vnd.plotly.v1+json": {
       "config": {
        "plotlyServerURL": "https://plot.ly"
       },
       "data": [
        {
         "showlegend": false,
         "type": "bar",
         "x": [
          "(↓ ↓ ↓)",
          "(↓ ↓ ↑)",
          "(↓ ↑ ↓)",
          "(↓ ↑ ↑)",
          "(↑ ↓ ↓)",
          "(↑ ↓ ↑)",
          "(↑ ↑ ↓)",
          "(↑ ↑ ↑)"
         ],
         "xaxis": "x",
         "y": [
          0.1971,
          0.0452,
          0.0464,
          0.1875,
          0.0545,
          0.2132,
          0.201,
          0.0551
         ],
         "yaxis": "y"
        }
       ],
       "layout": {
        "annotations": [
         {
          "font": {
           "size": 16
          },
          "showarrow": false,
          "text": "(X, X, X)",
          "x": 0.14444444444444446,
          "xanchor": "center",
          "xref": "paper",
          "y": 1,
          "yanchor": "bottom",
          "yref": "paper"
         }
        ],
        "autosize": true,
        "xaxis": {
         "anchor": "y",
         "autorange": true,
         "domain": [
          0,
          0.2888888888888889
         ],
         "range": [
          -0.5,
          7.5
         ],
         "tickangle": 45,
         "tickfont": {
          "size": 14
         },
         "type": "category"
        },
        "xaxis2": {
         "anchor": "y2",
         "domain": [
          0.35555555555555557,
          0.6444444444444445
         ],
         "tickangle": 45,
         "tickfont": {
          "size": 14
         }
        },
        "xaxis3": {
         "anchor": "y3",
         "domain": [
          0.7111111111111111,
          1
         ],
         "tickangle": 45,
         "tickfont": {
          "size": 14
         }
        },
        "yaxis": {
         "anchor": "x",
         "autorange": true,
         "domain": [
          0,
          1
         ],
         "range": [
          0,
          0.22442105263157894
         ],
         "tickformat": ".0%",
         "title": {
          "text": "Probability"
         },
         "type": "linear"
        },
        "yaxis2": {
         "anchor": "x2",
         "domain": [
          0,
          1
         ]
        },
        "yaxis3": {
         "anchor": "x3",
         "domain": [
          0,
          1
         ]
        }
       }
      },
      "image/png": "[encoded data removed]",
      "text/html": [
       "<div>\n",
       "        \n",
       "        \n",
       "            <div id=\"049d92b3-44d0-4da7-935d-21a514eceddf\" class=\"plotly-graph-div\" style=\"height:525px; width:100%;\"></div>\n",
       "            <script type=\"text/javascript\">\n",
       "                require([\"plotly\"], function(Plotly) {\n",
       "                    window.PLOTLYENV=window.PLOTLYENV || {};\n",
       "                    \n",
       "                if (document.getElementById(\"049d92b3-44d0-4da7-935d-21a514eceddf\")) {\n",
       "                    Plotly.newPlot(\n",
       "                        '049d92b3-44d0-4da7-935d-21a514eceddf',\n",
       "                        [{\"showlegend\": false, \"type\": \"bar\", \"x\": [\"(\\u2193 \\u2193 \\u2193)\", \"(\\u2193 \\u2193 \\u2191)\", \"(\\u2193 \\u2191 \\u2193)\", \"(\\u2193 \\u2191 \\u2191)\", \"(\\u2191 \\u2193 \\u2193)\", \"(\\u2191 \\u2193 \\u2191)\", \"(\\u2191 \\u2191 \\u2193)\", \"(\\u2191 \\u2191 \\u2191)\"], \"xaxis\": \"x\", \"y\": [0.1971, 0.0452, 0.0464, 0.1875, 0.0545, 0.2132, 0.201, 0.0551], \"yaxis\": \"y\"}],\n",
       "                        {\"annotations\": [{\"font\": {\"size\": 16}, \"showarrow\": false, \"text\": \"(X, X, X)\", \"x\": 0.14444444444444446, \"xanchor\": \"center\", \"xref\": \"paper\", \"y\": 1.0, \"yanchor\": \"bottom\", \"yref\": \"paper\"}], \"xaxis\": {\"anchor\": \"y\", \"domain\": [0.0, 0.2888888888888889], \"tickangle\": 45, \"tickfont\": {\"size\": 14}}, \"xaxis2\": {\"anchor\": \"y2\", \"domain\": [0.35555555555555557, 0.6444444444444445], \"tickangle\": 45, \"tickfont\": {\"size\": 14}}, \"xaxis3\": {\"anchor\": \"y3\", \"domain\": [0.7111111111111111, 1.0], \"tickangle\": 45, \"tickfont\": {\"size\": 14}}, \"yaxis\": {\"anchor\": \"x\", \"domain\": [0.0, 1.0], \"tickformat\": \".0%\", \"title\": {\"text\": \"Probability\"}}, \"yaxis2\": {\"anchor\": \"x2\", \"domain\": [0.0, 1.0]}, \"yaxis3\": {\"anchor\": \"x3\", \"domain\": [0.0, 1.0]}},\n",
       "                        {\"responsive\": true}\n",
       "                    ).then(function(){\n",
       "                            \n",
       "var gd = document.getElementById('049d92b3-44d0-4da7-935d-21a514eceddf');\n",
       "var x = new MutationObserver(function (mutations, observer) {{\n",
       "        var display = window.getComputedStyle(gd).display;\n",
       "        if (!display || display === 'none') {{\n",
       "            console.log([gd, 'removed!']);\n",
       "            Plotly.purge(gd);\n",
       "            observer.disconnect();\n",
       "        }}\n",
       "}});\n",
       "\n",
       "// Listen for the removal of the full notebook cells\n",
       "var notebookContainer = gd.closest('#notebook-container');\n",
       "if (notebookContainer) {{\n",
       "    x.observe(notebookContainer, {childList: true});\n",
       "}}\n",
       "\n",
       "// Listen for the clearing of the current output cell\n",
       "var outputEl = gd.closest('.output');\n",
       "if (outputEl) {{\n",
       "    x.observe(outputEl, {childList: true});\n",
       "}}\n",
       "\n",
       "                        })\n",
       "                };\n",
       "                });\n",
       "            </script>\n",
       "        </div>"
      ]
     },
     "metadata": {},
     "output_type": "display_data"
    }
   ],
   "source": [
    "three_x_results = do_measurements(qubits, [['X', 'X', 'X']])\n",
    "plot_results(three_x_results)"
   ]
  },
  {
   "cell_type": "markdown",
   "metadata": {},
   "source": [
    "<img src=\"figures/XXX.png\" width=\"500\"> <br />\n",
    "<em>(Here's the result rendered to a static image for offline viewing).  </em>"
   ]
  },
  {
   "cell_type": "markdown",
   "metadata": {},
   "source": [
    "We get one of four possible results.  Either all of the qubits are in the $\\downarrow$ state or exactly one of them is.  If we think about the down state corresponding to -1 and the up state to +1 then this means that the only results we see are where\n",
    "\n",
    "$$\n",
    "X_1 X_2 X_3 = -1\n",
    "$$\n",
    "\n",
    "is true.\n",
    "\n",
    "### Measuring one X and two Y\n",
    "\n",
    "What about measuring one qubit along the X axis and the other along Y?  We can try all possible combinations:"
   ]
  },
  {
   "cell_type": "code",
   "execution_count": 16,
   "metadata": {},
   "outputs": [
    {
     "data": {
      "application/vnd.plotly.v1+json": {
       "config": {
        "plotlyServerURL": "https://plot.ly"
       },
       "data": [
        {
         "showlegend": false,
         "type": "bar",
         "x": [
          "(↓ ↓ ↓)",
          "(↓ ↓ ↑)",
          "(↓ ↑ ↓)",
          "(↓ ↑ ↑)",
          "(↑ ↓ ↓)",
          "(↑ ↓ ↑)",
          "(↑ ↑ ↓)",
          "(↑ ↑ ↑)"
         ],
         "xaxis": "x",
         "y": [
          0.0536,
          0.1864,
          0.2083,
          0.0528,
          0.2028,
          0.0541,
          0.0532,
          0.1888
         ],
         "yaxis": "y"
        },
        {
         "showlegend": false,
         "type": "bar",
         "x": [
          "(↓ ↓ ↓)",
          "(↓ ↓ ↑)",
          "(↓ ↑ ↓)",
          "(↓ ↑ ↑)",
          "(↑ ↓ ↓)",
          "(↑ ↓ ↑)",
          "(↑ ↑ ↓)",
          "(↑ ↑ ↑)"
         ],
         "xaxis": "x2",
         "y": [
          0.0558,
          0.1858,
          0.1972,
          0.0588,
          0.2025,
          0.0559,
          0.0609,
          0.1831
         ],
         "yaxis": "y2"
        },
        {
         "showlegend": false,
         "type": "bar",
         "x": [
          "(↓ ↓ ↓)",
          "(↓ ↓ ↑)",
          "(↓ ↑ ↓)",
          "(↓ ↑ ↑)",
          "(↑ ↓ ↓)",
          "(↑ ↓ ↑)",
          "(↑ ↑ ↓)",
          "(↑ ↑ ↑)"
         ],
         "xaxis": "x3",
         "y": [
          0.0471,
          0.1977,
          0.2019,
          0.0548,
          0.1946,
          0.0553,
          0.0496,
          0.199
         ],
         "yaxis": "y3"
        }
       ],
       "layout": {
        "annotations": [
         {
          "font": {
           "size": 16
          },
          "showarrow": false,
          "text": "(X, Y, Y)",
          "x": 0.14444444444444446,
          "xanchor": "center",
          "xref": "paper",
          "y": 1,
          "yanchor": "bottom",
          "yref": "paper"
         },
         {
          "font": {
           "size": 16
          },
          "showarrow": false,
          "text": "(Y, X, Y)",
          "x": 0.5,
          "xanchor": "center",
          "xref": "paper",
          "y": 1,
          "yanchor": "bottom",
          "yref": "paper"
         },
         {
          "font": {
           "size": 16
          },
          "showarrow": false,
          "text": "(Y, Y, X)",
          "x": 0.8555555555555556,
          "xanchor": "center",
          "xref": "paper",
          "y": 1,
          "yanchor": "bottom",
          "yref": "paper"
         }
        ],
        "autosize": true,
        "xaxis": {
         "anchor": "y",
         "autorange": true,
         "domain": [
          0,
          0.2888888888888889
         ],
         "range": [
          -0.5,
          7.5
         ],
         "tickangle": 45,
         "tickfont": {
          "size": 14
         },
         "type": "category"
        },
        "xaxis2": {
         "anchor": "y2",
         "autorange": true,
         "domain": [
          0.35555555555555557,
          0.6444444444444445
         ],
         "range": [
          -0.5,
          7.5
         ],
         "tickangle": 45,
         "tickfont": {
          "size": 14
         },
         "type": "category"
        },
        "xaxis3": {
         "anchor": "y3",
         "autorange": true,
         "domain": [
          0.7111111111111111,
          1
         ],
         "range": [
          -0.5,
          7.5
         ],
         "tickangle": 45,
         "tickfont": {
          "size": 14
         },
         "type": "category"
        },
        "yaxis": {
         "anchor": "x",
         "autorange": true,
         "domain": [
          0,
          1
         ],
         "range": [
          0,
          0.21926315789473685
         ],
         "tickformat": ".0%",
         "title": {
          "text": "Probability"
         },
         "type": "linear"
        },
        "yaxis2": {
         "anchor": "x2",
         "autorange": true,
         "domain": [
          0,
          1
         ],
         "range": [
          0,
          0.21315789473684213
         ],
         "tickformat": ".0%",
         "title": {
          "text": "Probability"
         },
         "type": "linear"
        },
        "yaxis3": {
         "anchor": "x3",
         "autorange": true,
         "domain": [
          0,
          1
         ],
         "range": [
          0,
          0.21252631578947367
         ],
         "tickformat": ".0%",
         "title": {
          "text": "Probability"
         },
         "type": "linear"
        }
       }
      },
      "image/png": "[encoded data removed]",
      "text/html": [
       "<div>\n",
       "        \n",
       "        \n",
       "            <div id=\"52daf622-0225-4ded-be24-079c64aa6e18\" class=\"plotly-graph-div\" style=\"height:525px; width:100%;\"></div>\n",
       "            <script type=\"text/javascript\">\n",
       "                require([\"plotly\"], function(Plotly) {\n",
       "                    window.PLOTLYENV=window.PLOTLYENV || {};\n",
       "                    \n",
       "                if (document.getElementById(\"52daf622-0225-4ded-be24-079c64aa6e18\")) {\n",
       "                    Plotly.newPlot(\n",
       "                        '52daf622-0225-4ded-be24-079c64aa6e18',\n",
       "                        [{\"showlegend\": false, \"type\": \"bar\", \"x\": [\"(\\u2193 \\u2193 \\u2193)\", \"(\\u2193 \\u2193 \\u2191)\", \"(\\u2193 \\u2191 \\u2193)\", \"(\\u2193 \\u2191 \\u2191)\", \"(\\u2191 \\u2193 \\u2193)\", \"(\\u2191 \\u2193 \\u2191)\", \"(\\u2191 \\u2191 \\u2193)\", \"(\\u2191 \\u2191 \\u2191)\"], \"xaxis\": \"x\", \"y\": [0.0536, 0.1864, 0.2083, 0.0528, 0.2028, 0.0541, 0.0532, 0.1888], \"yaxis\": \"y\"}, {\"showlegend\": false, \"type\": \"bar\", \"x\": [\"(\\u2193 \\u2193 \\u2193)\", \"(\\u2193 \\u2193 \\u2191)\", \"(\\u2193 \\u2191 \\u2193)\", \"(\\u2193 \\u2191 \\u2191)\", \"(\\u2191 \\u2193 \\u2193)\", \"(\\u2191 \\u2193 \\u2191)\", \"(\\u2191 \\u2191 \\u2193)\", \"(\\u2191 \\u2191 \\u2191)\"], \"xaxis\": \"x2\", \"y\": [0.0558, 0.1858, 0.1972, 0.0588, 0.2025, 0.0559, 0.0609, 0.1831], \"yaxis\": \"y2\"}, {\"showlegend\": false, \"type\": \"bar\", \"x\": [\"(\\u2193 \\u2193 \\u2193)\", \"(\\u2193 \\u2193 \\u2191)\", \"(\\u2193 \\u2191 \\u2193)\", \"(\\u2193 \\u2191 \\u2191)\", \"(\\u2191 \\u2193 \\u2193)\", \"(\\u2191 \\u2193 \\u2191)\", \"(\\u2191 \\u2191 \\u2193)\", \"(\\u2191 \\u2191 \\u2191)\"], \"xaxis\": \"x3\", \"y\": [0.0471, 0.1977, 0.2019, 0.0548, 0.1946, 0.0553, 0.0496, 0.199], \"yaxis\": \"y3\"}],\n",
       "                        {\"annotations\": [{\"font\": {\"size\": 16}, \"showarrow\": false, \"text\": \"(X, Y, Y)\", \"x\": 0.14444444444444446, \"xanchor\": \"center\", \"xref\": \"paper\", \"y\": 1.0, \"yanchor\": \"bottom\", \"yref\": \"paper\"}, {\"font\": {\"size\": 16}, \"showarrow\": false, \"text\": \"(Y, X, Y)\", \"x\": 0.5, \"xanchor\": \"center\", \"xref\": \"paper\", \"y\": 1.0, \"yanchor\": \"bottom\", \"yref\": \"paper\"}, {\"font\": {\"size\": 16}, \"showarrow\": false, \"text\": \"(Y, Y, X)\", \"x\": 0.8555555555555556, \"xanchor\": \"center\", \"xref\": \"paper\", \"y\": 1.0, \"yanchor\": \"bottom\", \"yref\": \"paper\"}], \"xaxis\": {\"anchor\": \"y\", \"domain\": [0.0, 0.2888888888888889], \"tickangle\": 45, \"tickfont\": {\"size\": 14}}, \"xaxis2\": {\"anchor\": \"y2\", \"domain\": [0.35555555555555557, 0.6444444444444445], \"tickangle\": 45, \"tickfont\": {\"size\": 14}}, \"xaxis3\": {\"anchor\": \"y3\", \"domain\": [0.7111111111111111, 1.0], \"tickangle\": 45, \"tickfont\": {\"size\": 14}}, \"yaxis\": {\"anchor\": \"x\", \"domain\": [0.0, 1.0], \"tickformat\": \".0%\", \"title\": {\"text\": \"Probability\"}}, \"yaxis2\": {\"anchor\": \"x2\", \"domain\": [0.0, 1.0], \"tickformat\": \".0%\", \"title\": {\"text\": \"Probability\"}}, \"yaxis3\": {\"anchor\": \"x3\", \"domain\": [0.0, 1.0], \"tickformat\": \".0%\", \"title\": {\"text\": \"Probability\"}}},\n",
       "                        {\"responsive\": true}\n",
       "                    ).then(function(){\n",
       "                            \n",
       "var gd = document.getElementById('52daf622-0225-4ded-be24-079c64aa6e18');\n",
       "var x = new MutationObserver(function (mutations, observer) {{\n",
       "        var display = window.getComputedStyle(gd).display;\n",
       "        if (!display || display === 'none') {{\n",
       "            console.log([gd, 'removed!']);\n",
       "            Plotly.purge(gd);\n",
       "            observer.disconnect();\n",
       "        }}\n",
       "}});\n",
       "\n",
       "// Listen for the removal of the full notebook cells\n",
       "var notebookContainer = gd.closest('#notebook-container');\n",
       "if (notebookContainer) {{\n",
       "    x.observe(notebookContainer, {childList: true});\n",
       "}}\n",
       "\n",
       "// Listen for the clearing of the current output cell\n",
       "var outputEl = gd.closest('.output');\n",
       "if (outputEl) {{\n",
       "    x.observe(outputEl, {childList: true});\n",
       "}}\n",
       "\n",
       "                        })\n",
       "                };\n",
       "                });\n",
       "            </script>\n",
       "        </div>"
      ]
     },
     "metadata": {},
     "output_type": "display_data"
    }
   ],
   "source": [
    "two_x_one_y = [\n",
    "    ['X' if j == i else 'Y' for j in range(len(qubits))]\n",
    "    for i in range(len(qubits))\n",
    "]\n",
    "two_x_one_y_results = do_measurements(qubits, two_x_one_y)\n",
    "plot_results(two_x_one_y_results)"
   ]
  },
  {
   "cell_type": "markdown",
   "metadata": {},
   "source": [
    "<img src=\"figures/XYY.png\" width=\"500\"> <br />\n",
    "<em>(Here's the result rendered to a static image for offline viewing).  </em>"
   ]
  },
  {
   "cell_type": "markdown",
   "metadata": {},
   "source": [
    "In each case, if the qubit we measured along the X axis is down then the two qubits we measured along the Y axis have different results.  If the X qubit is up then the two other qubits have the same result.  From this, we can write out three more equalities: \n",
    "\n",
    "$$\n",
    "X_1 Y_2 Y_3 = 1 \\\\\n",
    "Y_1 X_2 Y_3 = 1 \\\\\n",
    "Y_1 Y_2 X_3 = 1\n",
    "$$\n",
    "\n",
    "\n",
    "## Ruling out deterministic local states\n",
    "\n",
    "Can these results be explained by assigning each qubit a value for its measurement along the X and Y axis prior to the measurements taking place?  We can quickly check this by multiplying the four equations above together to get:\n",
    "\n",
    "$$\n",
    "(X_1)^2 (X_2)^2 (X_3)^2 (Y_1)^2 (Y_2)^2 (Y_3)^2 = -1\n",
    "$$\n",
    "\n",
    "This is a contradiction since each measurement value is ±1, and this demonstrates that the set of qubits could not have predetermined local states.  \n",
    "\n"
   ]
  },
  {
   "cell_type": "markdown",
   "metadata": {},
   "source": [
    "\n",
    "\n",
    "\n",
    "\n",
    "\n",
    "\n",
    "\n",
    "\n",
    "\n",
    "\n",
    "\n",
    "\n",
    "\n",
    "\n",
    "\n",
    "\n",
    "\n",
    "\n",
    "\n",
    "\n"
   ]
  }
 ],
 "metadata": {
  "kernelspec": {
   "display_name": "Python 3",
   "language": "python",
   "name": "python3"
  },
  "language_info": {
   "codemirror_mode": {
    "name": "ipython",
    "version": 3
   },
   "file_extension": ".py",
   "mimetype": "text/x-python",
   "name": "python",
   "nbconvert_exporter": "python",
   "pygments_lexer": "ipython3",
   "version": "3.6.5"
  }
 },
 "nbformat": 4,
 "nbformat_minor": 4
}
